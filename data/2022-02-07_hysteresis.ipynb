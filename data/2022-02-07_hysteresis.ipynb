{
 "cells": [
  {
   "cell_type": "code",
   "execution_count": 1,
   "metadata": {},
   "outputs": [],
   "source": [
    "import math \n",
    "import matplotlib.pyplot as plt\n",
    "import statistics "
   ]
  },
  {
   "cell_type": "code",
   "execution_count": 2,
   "metadata": {},
   "outputs": [],
   "source": [
    "# these are hysteretic jogs, so I am just jogging back-and-forth by 5mm on each count... \n",
    "# so we will see the effects of coming-back from some other direction \n",
    "\n",
    "x = [ 4.999, 0.071, -4.901, 0.022, 5.000, 0.073, -4.9, 0.022, 5.001, 0.072, -4.895, 0.024, 5.001, 0.073, -4.9, 0.023,\n",
    "    5.002, 0.072, -4.899, 0.023, 5.000, 0.072, -4.900, 0.023, 4.999, 0.071, -4.901, 0.021, 4.999, 0.070 ]\n",
    "\n",
    "y = [ 4.937, -0.002, -5.024, -0.031, 4.936, 0.000, -5.025, -0.032,\n",
    "    4.934, -0.001, -5.023, -0.033, 4.932, -0.002, -5.023, -0.041, 4.932, -0.003, -5.023, -0.036, 4.933, 0.000, -5.025, \n",
    "     -0.034, 4.930, -0.003, -5.023, -0.036 ]\n",
    "\n",
    "z = [ 4.89, 0, -5.022, -0.084, 4.880, -0.006, -5.024, -0.089, 4.874, -0.013, -5.026, -0.093, 4.871, -0.014, \n",
    "     -5.027, -0.097, 4.866, -0.020, -5.030, -0.100, 4.858,  -0.026,  -5.028, -0.103, 4.855, -0.030, -5.030, -0.104, 4.852,\n",
    "    -0.033, -5.038, -0.105, 4.851, -0.035, -5.039, -0.106, 4.849, -0.039, -5.040, -0.109, 4.846, -0.041, -5.043, -0.111 ]"
   ]
  },
  {
   "cell_type": "code",
   "execution_count": 3,
   "metadata": {},
   "outputs": [],
   "source": [
    "ax = y"
   ]
  },
  {
   "cell_type": "code",
   "execution_count": 4,
   "metadata": {},
   "outputs": [
    {
     "data": {
      "text/plain": [
       "[<matplotlib.lines.Line2D at 0x2073e3beac8>]"
      ]
     },
     "execution_count": 4,
     "metadata": {},
     "output_type": "execute_result"
    },
    {
     "data": {
      "image/png": "[encoded data removed]",
      "text/plain": [
       "<Figure size 432x288 with 1 Axes>"
      ]
     },
     "metadata": {
      "needs_background": "light"
     },
     "output_type": "display_data"
    }
   ],
   "source": [
    "# might just want to plot these all simple like;\n",
    "plt.plot(ax, 'bo')"
   ]
  },
  {
   "cell_type": "code",
   "execution_count": 5,
   "metadata": {},
   "outputs": [],
   "source": [
    "# really we want to see those mid points, so \n",
    "def midpick(series):\n",
    "    mpnts = []\n",
    "    cntr = 0\n",
    "    for i in range(len(series)):\n",
    "        cntr += 1 \n",
    "        if(cntr >= 2):\n",
    "            cntr = 0\n",
    "            mpnts.append(series[i])\n",
    "    return mpnts \n",
    "\n",
    "def toppick(series):\n",
    "    tpnts = []\n",
    "    cntr = 3\n",
    "    for i in range(len(series)):\n",
    "        cntr += 1\n",
    "        if(cntr >= 4):\n",
    "            cntr = 0 \n",
    "            tpnts.append(series[i])\n",
    "    return tpnts \n",
    "\n",
    "def botpick(series):\n",
    "    bpnts = []\n",
    "    cntr = 1\n",
    "    for i in range(len(series)):\n",
    "        cntr += 1 \n",
    "        if(cntr >= 4):\n",
    "            cntr = 0 \n",
    "            bpnts.append(series[i])\n",
    "    return bpnts "
   ]
  },
  {
   "cell_type": "code",
   "execution_count": 6,
   "metadata": {},
   "outputs": [],
   "source": [
    "mid = midpick(ax)\n",
    "top = toppick(ax)\n",
    "bot = botpick(ax)"
   ]
  },
  {
   "cell_type": "code",
   "execution_count": 7,
   "metadata": {},
   "outputs": [
    {
     "name": "stdout",
     "output_type": "stream",
     "text": [
      "mid pts stdev 0.0174 (0.0007)\n",
      "top pts stdev 0.0024 (0.0001)\n",
      "bottom pts stdev 0.0010 (0.0000)\n"
     ]
    }
   ],
   "source": [
    "print('mid pts stdev ' + '{:.4f}'.format(statistics.stdev(mid)) + ' ({:.4f}'.format(statistics.stdev(mid)/  25.4) + ')')\n",
    "print('top pts stdev ' + '{:.4f}'.format(statistics.stdev(top)) + ' ({:.4f}'.format(statistics.stdev(top)/  25.4) + ')')\n",
    "print('bottom pts stdev ' + '{:.4f}'.format(statistics.stdev(bot)) + ' ({:.4f}'.format(statistics.stdev(bot)/  25.4) + ')')"
   ]
  },
  {
   "cell_type": "code",
   "execution_count": 8,
   "metadata": {},
   "outputs": [
    {
     "data": {
      "image/png": "[encoded data removed]",
      "text/plain": [
       "<Figure size 1224x648 with 3 Axes>"
      ]
     },
     "metadata": {
      "needs_background": "light"
     },
     "output_type": "display_data"
    }
   ],
   "source": [
    "plt.rcParams[\"figure.figsize\"] = (17, 9)\n",
    "fig, (ax1, ax2, ax3) = plt.subplots(1, 3)\n",
    "fig.suptitle('Hysteresis on Y Axis')\n",
    "ax1.plot(top, 'or')\n",
    "ax1.set_ylim([4.9, 5.1])\n",
    "ax1.title.set_text('upper tap')\n",
    "ax2.plot(mid, 'or')\n",
    "ax2.set_ylim([-0.1, 0.1])\n",
    "ax2.title.set_text('hysteretic gap')\n",
    "ax3.plot(bot, 'or')\n",
    "ax3.set_ylim([-5.1, -4.9])\n",
    "ax3.title.set_text('lower tap')"
   ]
  },
  {
   "cell_type": "code",
   "execution_count": null,
   "metadata": {},
   "outputs": [],
   "source": []
  },
  {
   "cell_type": "code",
   "execution_count": null,
   "metadata": {},
   "outputs": [],
   "source": []
  }
 ],
 "metadata": {
  "kernelspec": {
   "display_name": "Python 3",
   "language": "python",
   "name": "python3"
  },
  "language_info": {
   "codemirror_mode": {
    "name": "ipython",
    "version": 3
   },
   "file_extension": ".py",
   "mimetype": "text/x-python",
   "name": "python",
   "nbconvert_exporter": "python",
   "pygments_lexer": "ipython3",
   "version": "3.7.6"
  }
 },
 "nbformat": 4,
 "nbformat_minor": 4
}

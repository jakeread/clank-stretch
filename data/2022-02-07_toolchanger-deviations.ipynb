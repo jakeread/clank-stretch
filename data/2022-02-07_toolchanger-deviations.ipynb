{
 "cells": [
  {
   "cell_type": "code",
   "execution_count": 26,
   "metadata": {},
   "outputs": [],
   "source": [
    "import math \n",
    "import matplotlib.pyplot as plt\n",
    "import statistics "
   ]
  },
  {
   "cell_type": "code",
   "execution_count": 38,
   "metadata": {},
   "outputs": [],
   "source": [
    "# touch-off pts for toolchanger pick-up put-down: tc dropped and reclaimed between each measurement \n",
    "# there should be a video in the log w/ this data \n",
    "\n",
    "x = [ 5.501, 5.496, 5.481, 5.475, 5.474, 5.476 ]\n",
    "y = [ 3.750, 3.744, 3.743, 3.742, 3.742, 3.741 ]\n",
    "z = [ 4.528, 4.535, 4.539, 4.539, 4.540, 4.540 ]"
   ]
  },
  {
   "cell_type": "code",
   "execution_count": 39,
   "metadata": {},
   "outputs": [],
   "source": [
    "def avg(series):\n",
    "    sum = 0 \n",
    "    for i in range(len(series)):\n",
    "        sum += series[i]\n",
    "    return sum / len(series)"
   ]
  },
  {
   "cell_type": "code",
   "execution_count": 42,
   "metadata": {},
   "outputs": [],
   "source": [
    "def deviations(series):\n",
    "    basis = avg(series)\n",
    "    for i in range(len(series)):\n",
    "        mm = basis - series[i] \n",
    "        inch = mm / 25.4 \n",
    "        print('{:.4f}'.format(mm) + ' ' + '({:.4f}'.format(inch) + \")\")"
   ]
  },
  {
   "cell_type": "code",
   "execution_count": 43,
   "metadata": {},
   "outputs": [
    {
     "name": "stdout",
     "output_type": "stream",
     "text": [
      "-0.0172 (-0.0007)\n",
      "-0.0122 (-0.0005)\n",
      "0.0028 (0.0001)\n",
      "0.0088 (0.0003)\n",
      "0.0098 (0.0004)\n",
      "0.0078 (0.0003)\n"
     ]
    }
   ],
   "source": [
    "deviations(x)"
   ]
  },
  {
   "cell_type": "code",
   "execution_count": 56,
   "metadata": {},
   "outputs": [],
   "source": [
    "def avgdev(series):\n",
    "    center = avg(series)\n",
    "    sum = 0\n",
    "    for i in range(len(series)):\n",
    "        sum += center - series[i]\n",
    "    avgd = sum / len(series)\n",
    "    return avgd"
   ]
  },
  {
   "cell_type": "code",
   "execution_count": 62,
   "metadata": {},
   "outputs": [
    {
     "name": "stdout",
     "output_type": "stream",
     "text": [
      "-1.480e-16 (-5.828e-18)\n"
     ]
    }
   ],
   "source": [
    "avgd = avgdev(z)\n",
    "print('{:.3e}'.format(avgd) + ' ' + '({:.3e}'.format(avgd/25.4) + ')')"
   ]
  },
  {
   "cell_type": "code",
   "execution_count": 46,
   "metadata": {},
   "outputs": [
    {
     "name": "stdout",
     "output_type": "stream",
     "text": [
      "0.0047 (0.0002)\n"
     ]
    }
   ],
   "source": [
    "std = statistics.stdev(z)\n",
    "print('{:.4f}'.format(std) + ' ' + '({:.4f}'.format(std/25.4) + ')')"
   ]
  },
  {
   "cell_type": "code",
   "execution_count": null,
   "metadata": {},
   "outputs": [],
   "source": []
  }
 ],
 "metadata": {
  "kernelspec": {
   "display_name": "Python 3",
   "language": "python",
   "name": "python3"
  },
  "language_info": {
   "codemirror_mode": {
    "name": "ipython",
    "version": 3
   },
   "file_extension": ".py",
   "mimetype": "text/x-python",
   "name": "python",
   "nbconvert_exporter": "python",
   "pygments_lexer": "ipython3",
   "version": "3.7.6"
  }
 },
 "nbformat": 4,
 "nbformat_minor": 4
}
